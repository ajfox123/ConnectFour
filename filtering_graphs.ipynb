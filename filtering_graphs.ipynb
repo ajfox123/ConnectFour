{
 "cells": [
  {
   "cell_type": "code",
   "execution_count": null,
   "metadata": {},
   "outputs": [],
   "source": [
    "from scipy import signal\n",
    "import numpy as np\n",
    "import matplotlib.pyplot as plt\n",
    "import os\n",
    "import time\n",
    "%matplotlib inline\n",
    "\n",
    "# Changing directory\n",
    "os.getcwd()\n",
    "os.chdir('Spikerbox/Week_12')\n",
    "filenames = os.listdir()\n",
    "\n",
    "for file in filenames:\n",
    "    file = open(file, 'r') # opeing and reading each file\n",
    "    f = file.readlines()\n",
    "    amp_ls = []\n",
    "\n",
    "    for line in f:\n",
    "        line = line.strip('\\n').split(' ')\n",
    "        amp = line[0]\n",
    "        amp_ls.append(float(amp))\n",
    "    time_ls = np.linspace(0,100,len(amp_ls))\n",
    "    amp_ls.reverse() # Data collected from Spiker Box was saved in reverse.\n",
    "    \n",
    "    # designing the notch filter\n",
    "    fs = len(amp_ls)/100  # Sample frequency (Hz)\n",
    "    f0 = 50  # Frequency to be removed from signal (Hz)\n",
    "    Q = 20  # Quality factor - determines the bandwidth (Q = f0/bandwidth)\n",
    "    b, a = signal.iirnotch(f0, Q, fs)\n",
    "    freq, h = signal.freqz(b, a, fs=fs)\n",
    "    y_notched = signal.filtfilt(b, a, amp_ls) # Applying the notch filter to the data\n",
    "    \n",
    "    # Taking rolling average for x points\n",
    "    x = 200;\n",
    "    y_av = [] # Setting up an array to store the avergaed data\n",
    "    time_ = [] # Setting up an array to store the new times the same length as our averaged data\n",
    "    i = 0\n",
    "    while i <len(amp_ls):\n",
    "        y_av.append(np.mean(amp_ls[i:i+x]))\n",
    "        time_.append(time_ls[i])\n",
    "        i += x\n",
    "    \n",
    "    # Plotting the data\n",
    "    fig, axs = plt.subplots(3, sharex=True)\n",
    "    fig.set_size_inches(7, 10)\n",
    "    axs[0].plot(time_ls,amp_ls)\n",
    "    axs[0].set_title('raw data')\n",
    "    axs[1].plot(time_ls,y_notched)\n",
    "    axs[1].set_title('notch filter applied')\n",
    "    axs[2].plot(time_,y_av)\n",
    "    axs[2].set_title('averaged data')\n",
    "    fig.suptitle(str(file.name))\n",
    "    plt.xlabel('time (s)')\n",
    "    plt.ylabel('amplitude')\n",
    "    plt.show()\n",
    "    # Saving the figures\n",
    "    #fig.savefig(str(file.name).replace('.txt','') + '.pdf', dpi=100)\n",
    "os.chdir('../..')"
   ]
  },
  {
   "cell_type": "code",
   "execution_count": null,
   "metadata": {},
   "outputs": [],
   "source": []
  }
 ],
 "metadata": {
  "kernelspec": {
   "display_name": "Python 3",
   "language": "python",
   "name": "python3"
  },
  "language_info": {
   "codemirror_mode": {
    "name": "ipython",
    "version": 3
   },
   "file_extension": ".py",
   "mimetype": "text/x-python",
   "name": "python",
   "nbconvert_exporter": "python",
   "pygments_lexer": "ipython3",
   "version": "3.7.3"
  }
 },
 "nbformat": 4,
 "nbformat_minor": 2
}
